{
 "cells": [
  {
   "cell_type": "markdown",
   "id": "74e02642",
   "metadata": {},
   "source": [
    "## Exercise 1"
   ]
  },
  {
   "cell_type": "markdown",
   "id": "5fb85c5e",
   "metadata": {},
   "source": [
    "#### Question 1:\n",
    "Write a function that receives a list as parameter and return how many elements it has; if it doesn't have any element return an error."
   ]
  },
  {
   "cell_type": "markdown",
   "id": "e0bc596b",
   "metadata": {},
   "source": [
    "#### Answer 1:"
   ]
  },
  {
   "cell_type": "code",
   "execution_count": null,
   "id": "bd94655f",
   "metadata": {},
   "outputs": [],
   "source": [
    "def count_elements(my_list):\n",
    "    if len(my_list) == 0:\n",
    "        raise ValueError(\"This list is empty! There should be elements\")\n",
    "    else:\n",
    "        return len(my_list)"
   ]
  },
  {
   "cell_type": "code",
   "execution_count": null,
   "id": "e0fc8e98",
   "metadata": {},
   "outputs": [
    {
     "name": "stdout",
     "output_type": "stream",
     "text": [
      "5\n"
     ]
    }
   ],
   "source": [
    "print(count_elements([1,2,3,'a',\"nursena\"]))\n",
    "# print(count_elements([])) ## Error happens"
   ]
  },
  {
   "cell_type": "markdown",
   "id": "50eb6779",
   "metadata": {},
   "source": [
    "#### Question 2:\n",
    "Write a function that builds a character‑count dict from a string, with an option to ignore case."
   ]
  },
  {
   "cell_type": "markdown",
   "id": "862eb2c2",
   "metadata": {},
   "source": [
    "#### Answer 2:"
   ]
  },
  {
   "cell_type": "code",
   "execution_count": 10,
   "id": "efd8d341",
   "metadata": {},
   "outputs": [],
   "source": [
    "from collections import Counter\n",
    "def count_char(text, ignore_case = False):\n",
    "    if ignore_case:\n",
    "        text = text.lower()\n",
    "    return dict(Counter(text))"
   ]
  },
  {
   "cell_type": "code",
   "execution_count": 11,
   "id": "e621bdef",
   "metadata": {},
   "outputs": [
    {
     "name": "stdout",
     "output_type": "stream",
     "text": [
      "{'n': 5, 'u': 2, 'r': 2, 's': 3, 'e': 2, 'a': 3, 'i': 3, ' ': 2, 'c': 2, 'o': 1, 't': 1, 'l': 1, 'm': 1}\n",
      "{'N': 1, 'u': 2, 'r': 2, 's': 3, 'e': 2, 'n': 4, 'a': 3, 'i': 3, ' ': 2, 'c': 2, 'o': 1, 't': 1, 'l': 1, 'm': 1}\n"
     ]
    }
   ],
   "source": [
    "print(count_char(\"Nursenanin counter calismasi\", ignore_case=True))\n",
    "print(count_char(\"Nursenanin counter calismasi\", ignore_case=False))"
   ]
  },
  {
   "cell_type": "markdown",
   "id": "a2ae4501",
   "metadata": {},
   "source": [
    "#### Question 3:\n",
    "Write a function that filters a list of numbers by a threshold and returns their squares"
   ]
  },
  {
   "cell_type": "markdown",
   "id": "25a2ba90",
   "metadata": {},
   "source": [
    "#### Answer 3:"
   ]
  },
  {
   "cell_type": "code",
   "execution_count": 17,
   "id": "723403ef",
   "metadata": {},
   "outputs": [],
   "source": [
    "def filter_and_squares(numbers, treshold):\n",
    "    result = []\n",
    "    for i in numbers:\n",
    "        if i > treshold:\n",
    "            result.append(i**2)\n",
    "    return result\n",
    "         "
   ]
  },
  {
   "cell_type": "code",
   "execution_count": 18,
   "id": "6d17633a",
   "metadata": {},
   "outputs": [
    {
     "name": "stdout",
     "output_type": "stream",
     "text": [
      "[25, 100, 49]\n"
     ]
    }
   ],
   "source": [
    "print(filter_and_squares([1, 5, 10, 3, 7], 4))"
   ]
  },
  {
   "cell_type": "code",
   "execution_count": null,
   "id": "a30ad503",
   "metadata": {},
   "outputs": [],
   "source": []
  }
 ],
 "metadata": {
  "kernelspec": {
   "display_name": "Python 3",
   "language": "python",
   "name": "python3"
  },
  "language_info": {
   "codemirror_mode": {
    "name": "ipython",
    "version": 3
   },
   "file_extension": ".py",
   "mimetype": "text/x-python",
   "name": "python",
   "nbconvert_exporter": "python",
   "pygments_lexer": "ipython3",
   "version": "3.12.4"
  }
 },
 "nbformat": 4,
 "nbformat_minor": 5
}
