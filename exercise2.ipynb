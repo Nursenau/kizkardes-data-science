{
 "cells": [
  {
   "cell_type": "code",
   "execution_count": 1,
   "id": "0da247b2",
   "metadata": {},
   "outputs": [],
   "source": [
    "import pandas as pd \n",
    "import numpy as np\n",
    "import matplotlib.pyplot as plt"
   ]
  },
  {
   "cell_type": "code",
   "execution_count": 4,
   "id": "212c5058",
   "metadata": {},
   "outputs": [],
   "source": [
    "birds = pd.read_csv(\"C:/Users/ASUS/Desktop/.github/kizkardes-data-science/datas/birds.csv\")"
   ]
  },
  {
   "cell_type": "code",
   "execution_count": 5,
   "id": "bc398593",
   "metadata": {},
   "outputs": [
    {
     "data": {
      "text/html": [
       "<div>\n",
       "<style scoped>\n",
       "    .dataframe tbody tr th:only-of-type {\n",
       "        vertical-align: middle;\n",
       "    }\n",
       "\n",
       "    .dataframe tbody tr th {\n",
       "        vertical-align: top;\n",
       "    }\n",
       "\n",
       "    .dataframe thead th {\n",
       "        text-align: right;\n",
       "    }\n",
       "</style>\n",
       "<table border=\"1\" class=\"dataframe\">\n",
       "  <thead>\n",
       "    <tr style=\"text-align: right;\">\n",
       "      <th></th>\n",
       "      <th>Name</th>\n",
       "      <th>ScientificName</th>\n",
       "      <th>Category</th>\n",
       "      <th>Order</th>\n",
       "      <th>Family</th>\n",
       "      <th>Genus</th>\n",
       "      <th>ConservationStatus</th>\n",
       "      <th>MinLength</th>\n",
       "      <th>MaxLength</th>\n",
       "      <th>MinBodyMass</th>\n",
       "      <th>MaxBodyMass</th>\n",
       "      <th>MinWingspan</th>\n",
       "      <th>MaxWingspan</th>\n",
       "    </tr>\n",
       "  </thead>\n",
       "  <tbody>\n",
       "    <tr>\n",
       "      <th>0</th>\n",
       "      <td>Black-bellied whistling-duck</td>\n",
       "      <td>Dendrocygna autumnalis</td>\n",
       "      <td>Ducks/Geese/Waterfowl</td>\n",
       "      <td>Anseriformes</td>\n",
       "      <td>Anatidae</td>\n",
       "      <td>Dendrocygna</td>\n",
       "      <td>LC</td>\n",
       "      <td>47.0</td>\n",
       "      <td>56.0</td>\n",
       "      <td>652.0</td>\n",
       "      <td>1020.0</td>\n",
       "      <td>76.0</td>\n",
       "      <td>94.0</td>\n",
       "    </tr>\n",
       "    <tr>\n",
       "      <th>1</th>\n",
       "      <td>Fulvous whistling-duck</td>\n",
       "      <td>Dendrocygna bicolor</td>\n",
       "      <td>Ducks/Geese/Waterfowl</td>\n",
       "      <td>Anseriformes</td>\n",
       "      <td>Anatidae</td>\n",
       "      <td>Dendrocygna</td>\n",
       "      <td>LC</td>\n",
       "      <td>45.0</td>\n",
       "      <td>53.0</td>\n",
       "      <td>712.0</td>\n",
       "      <td>1050.0</td>\n",
       "      <td>85.0</td>\n",
       "      <td>93.0</td>\n",
       "    </tr>\n",
       "    <tr>\n",
       "      <th>2</th>\n",
       "      <td>Snow goose</td>\n",
       "      <td>Anser caerulescens</td>\n",
       "      <td>Ducks/Geese/Waterfowl</td>\n",
       "      <td>Anseriformes</td>\n",
       "      <td>Anatidae</td>\n",
       "      <td>Anser</td>\n",
       "      <td>LC</td>\n",
       "      <td>64.0</td>\n",
       "      <td>79.0</td>\n",
       "      <td>2050.0</td>\n",
       "      <td>4050.0</td>\n",
       "      <td>135.0</td>\n",
       "      <td>165.0</td>\n",
       "    </tr>\n",
       "    <tr>\n",
       "      <th>3</th>\n",
       "      <td>Ross's goose</td>\n",
       "      <td>Anser rossii</td>\n",
       "      <td>Ducks/Geese/Waterfowl</td>\n",
       "      <td>Anseriformes</td>\n",
       "      <td>Anatidae</td>\n",
       "      <td>Anser</td>\n",
       "      <td>LC</td>\n",
       "      <td>57.3</td>\n",
       "      <td>64.0</td>\n",
       "      <td>1066.0</td>\n",
       "      <td>1567.0</td>\n",
       "      <td>113.0</td>\n",
       "      <td>116.0</td>\n",
       "    </tr>\n",
       "    <tr>\n",
       "      <th>4</th>\n",
       "      <td>Greater white-fronted goose</td>\n",
       "      <td>Anser albifrons</td>\n",
       "      <td>Ducks/Geese/Waterfowl</td>\n",
       "      <td>Anseriformes</td>\n",
       "      <td>Anatidae</td>\n",
       "      <td>Anser</td>\n",
       "      <td>LC</td>\n",
       "      <td>64.0</td>\n",
       "      <td>81.0</td>\n",
       "      <td>1930.0</td>\n",
       "      <td>3310.0</td>\n",
       "      <td>130.0</td>\n",
       "      <td>165.0</td>\n",
       "    </tr>\n",
       "  </tbody>\n",
       "</table>\n",
       "</div>"
      ],
      "text/plain": [
       "                           Name          ScientificName  \\\n",
       "0  Black-bellied whistling-duck  Dendrocygna autumnalis   \n",
       "1        Fulvous whistling-duck     Dendrocygna bicolor   \n",
       "2                    Snow goose      Anser caerulescens   \n",
       "3                  Ross's goose            Anser rossii   \n",
       "4   Greater white-fronted goose         Anser albifrons   \n",
       "\n",
       "                Category         Order    Family        Genus  \\\n",
       "0  Ducks/Geese/Waterfowl  Anseriformes  Anatidae  Dendrocygna   \n",
       "1  Ducks/Geese/Waterfowl  Anseriformes  Anatidae  Dendrocygna   \n",
       "2  Ducks/Geese/Waterfowl  Anseriformes  Anatidae        Anser   \n",
       "3  Ducks/Geese/Waterfowl  Anseriformes  Anatidae        Anser   \n",
       "4  Ducks/Geese/Waterfowl  Anseriformes  Anatidae        Anser   \n",
       "\n",
       "  ConservationStatus  MinLength  MaxLength  MinBodyMass  MaxBodyMass  \\\n",
       "0                 LC       47.0       56.0        652.0       1020.0   \n",
       "1                 LC       45.0       53.0        712.0       1050.0   \n",
       "2                 LC       64.0       79.0       2050.0       4050.0   \n",
       "3                 LC       57.3       64.0       1066.0       1567.0   \n",
       "4                 LC       64.0       81.0       1930.0       3310.0   \n",
       "\n",
       "   MinWingspan  MaxWingspan  \n",
       "0         76.0         94.0  \n",
       "1         85.0         93.0  \n",
       "2        135.0        165.0  \n",
       "3        113.0        116.0  \n",
       "4        130.0        165.0  "
      ]
     },
     "execution_count": 5,
     "metadata": {},
     "output_type": "execute_result"
    }
   ],
   "source": [
    "birds.head()"
   ]
  },
  {
   "cell_type": "code",
   "execution_count": 6,
   "id": "d82d7707",
   "metadata": {},
   "outputs": [
    {
     "name": "stdout",
     "output_type": "stream",
     "text": [
      "<class 'pandas.core.frame.DataFrame'>\n",
      "RangeIndex: 443 entries, 0 to 442\n",
      "Data columns (total 13 columns):\n",
      " #   Column              Non-Null Count  Dtype  \n",
      "---  ------              --------------  -----  \n",
      " 0   Name                443 non-null    object \n",
      " 1   ScientificName      443 non-null    object \n",
      " 2   Category            443 non-null    object \n",
      " 3   Order               443 non-null    object \n",
      " 4   Family              443 non-null    object \n",
      " 5   Genus               443 non-null    object \n",
      " 6   ConservationStatus  443 non-null    object \n",
      " 7   MinLength           443 non-null    float64\n",
      " 8   MaxLength           443 non-null    float64\n",
      " 9   MinBodyMass         443 non-null    float64\n",
      " 10  MaxBodyMass         443 non-null    float64\n",
      " 11  MinWingspan         443 non-null    float64\n",
      " 12  MaxWingspan         443 non-null    float64\n",
      "dtypes: float64(6), object(7)\n",
      "memory usage: 45.1+ KB\n"
     ]
    }
   ],
   "source": [
    "birds.info()"
   ]
  },
  {
   "cell_type": "code",
   "execution_count": 8,
   "id": "ead3ae1b",
   "metadata": {},
   "outputs": [
    {
     "data": {
      "text/plain": [
       "(443, 13)"
      ]
     },
     "execution_count": 8,
     "metadata": {},
     "output_type": "execute_result"
    }
   ],
   "source": [
    "birds.shape"
   ]
  },
  {
   "cell_type": "code",
   "execution_count": 9,
   "id": "32195420",
   "metadata": {},
   "outputs": [
    {
     "data": {
      "text/html": [
       "<div>\n",
       "<style scoped>\n",
       "    .dataframe tbody tr th:only-of-type {\n",
       "        vertical-align: middle;\n",
       "    }\n",
       "\n",
       "    .dataframe tbody tr th {\n",
       "        vertical-align: top;\n",
       "    }\n",
       "\n",
       "    .dataframe thead th {\n",
       "        text-align: right;\n",
       "    }\n",
       "</style>\n",
       "<table border=\"1\" class=\"dataframe\">\n",
       "  <thead>\n",
       "    <tr style=\"text-align: right;\">\n",
       "      <th></th>\n",
       "      <th>MinLength</th>\n",
       "      <th>MaxLength</th>\n",
       "      <th>MinBodyMass</th>\n",
       "      <th>MaxBodyMass</th>\n",
       "      <th>MinWingspan</th>\n",
       "      <th>MaxWingspan</th>\n",
       "    </tr>\n",
       "  </thead>\n",
       "  <tbody>\n",
       "    <tr>\n",
       "      <th>count</th>\n",
       "      <td>443.000000</td>\n",
       "      <td>443.000000</td>\n",
       "      <td>443.000000</td>\n",
       "      <td>443.000000</td>\n",
       "      <td>443.000000</td>\n",
       "      <td>443.000000</td>\n",
       "    </tr>\n",
       "    <tr>\n",
       "      <th>mean</th>\n",
       "      <td>28.536682</td>\n",
       "      <td>35.441986</td>\n",
       "      <td>327.938262</td>\n",
       "      <td>667.009752</td>\n",
       "      <td>58.557901</td>\n",
       "      <td>67.524492</td>\n",
       "    </tr>\n",
       "    <tr>\n",
       "      <th>std</th>\n",
       "      <td>20.319887</td>\n",
       "      <td>27.539772</td>\n",
       "      <td>779.680106</td>\n",
       "      <td>1655.682564</td>\n",
       "      <td>104.602369</td>\n",
       "      <td>126.673177</td>\n",
       "    </tr>\n",
       "    <tr>\n",
       "      <th>min</th>\n",
       "      <td>7.000000</td>\n",
       "      <td>8.900000</td>\n",
       "      <td>2.000000</td>\n",
       "      <td>3.000000</td>\n",
       "      <td>8.000000</td>\n",
       "      <td>10.600000</td>\n",
       "    </tr>\n",
       "    <tr>\n",
       "      <th>25%</th>\n",
       "      <td>13.750000</td>\n",
       "      <td>16.000000</td>\n",
       "      <td>18.000000</td>\n",
       "      <td>28.000000</td>\n",
       "      <td>23.000000</td>\n",
       "      <td>25.000000</td>\n",
       "    </tr>\n",
       "    <tr>\n",
       "      <th>50%</th>\n",
       "      <td>20.500000</td>\n",
       "      <td>25.000000</td>\n",
       "      <td>55.000000</td>\n",
       "      <td>89.000000</td>\n",
       "      <td>38.000000</td>\n",
       "      <td>42.000000</td>\n",
       "    </tr>\n",
       "    <tr>\n",
       "      <th>75%</th>\n",
       "      <td>39.000000</td>\n",
       "      <td>46.000000</td>\n",
       "      <td>332.000000</td>\n",
       "      <td>593.000000</td>\n",
       "      <td>72.750000</td>\n",
       "      <td>83.000000</td>\n",
       "    </tr>\n",
       "    <tr>\n",
       "      <th>max</th>\n",
       "      <td>138.000000</td>\n",
       "      <td>180.000000</td>\n",
       "      <td>9200.000000</td>\n",
       "      <td>14300.000000</td>\n",
       "      <td>1800.000000</td>\n",
       "      <td>2300.000000</td>\n",
       "    </tr>\n",
       "  </tbody>\n",
       "</table>\n",
       "</div>"
      ],
      "text/plain": [
       "        MinLength   MaxLength  MinBodyMass   MaxBodyMass  MinWingspan  \\\n",
       "count  443.000000  443.000000   443.000000    443.000000   443.000000   \n",
       "mean    28.536682   35.441986   327.938262    667.009752    58.557901   \n",
       "std     20.319887   27.539772   779.680106   1655.682564   104.602369   \n",
       "min      7.000000    8.900000     2.000000      3.000000     8.000000   \n",
       "25%     13.750000   16.000000    18.000000     28.000000    23.000000   \n",
       "50%     20.500000   25.000000    55.000000     89.000000    38.000000   \n",
       "75%     39.000000   46.000000   332.000000    593.000000    72.750000   \n",
       "max    138.000000  180.000000  9200.000000  14300.000000  1800.000000   \n",
       "\n",
       "       MaxWingspan  \n",
       "count   443.000000  \n",
       "mean     67.524492  \n",
       "std     126.673177  \n",
       "min      10.600000  \n",
       "25%      25.000000  \n",
       "50%      42.000000  \n",
       "75%      83.000000  \n",
       "max    2300.000000  "
      ]
     },
     "execution_count": 9,
     "metadata": {},
     "output_type": "execute_result"
    }
   ],
   "source": [
    "birds.describe()"
   ]
  },
  {
   "cell_type": "code",
   "execution_count": 10,
   "id": "ffc26f50",
   "metadata": {},
   "outputs": [
    {
     "data": {
      "image/png": "[encoded data removed]",
      "text/plain": [
       "<Figure size 640x480 with 1 Axes>"
      ]
     },
     "metadata": {},
     "output_type": "display_data"
    }
   ],
   "source": [
    "# Visualize birds wingspan\n",
    "plt.title('Max wingspan in Centimeters')\n",
    "plt.ylabel('Wİngspan (CM)')\n",
    "plt.xlabel('Birds')\n",
    "plt.rcParams[\"figure.figsize\"] = (12,6)\n",
    "wingspan = birds.MaxWingspan\n",
    "wingspan.plot()\n",
    "plt.show()"
   ]
  },
  {
   "cell_type": "code",
   "execution_count": 11,
   "id": "730f09f6",
   "metadata": {},
   "outputs": [
    {
     "data": {
      "text/html": [
       "<div>\n",
       "<style scoped>\n",
       "    .dataframe tbody tr th:only-of-type {\n",
       "        vertical-align: middle;\n",
       "    }\n",
       "\n",
       "    .dataframe tbody tr th {\n",
       "        vertical-align: top;\n",
       "    }\n",
       "\n",
       "    .dataframe thead th {\n",
       "        text-align: right;\n",
       "    }\n",
       "</style>\n",
       "<table border=\"1\" class=\"dataframe\">\n",
       "  <thead>\n",
       "    <tr style=\"text-align: right;\">\n",
       "      <th></th>\n",
       "      <th>Name</th>\n",
       "      <th>ScientificName</th>\n",
       "      <th>Category</th>\n",
       "      <th>Order</th>\n",
       "      <th>Family</th>\n",
       "      <th>Genus</th>\n",
       "      <th>ConservationStatus</th>\n",
       "      <th>MinLength</th>\n",
       "      <th>MaxLength</th>\n",
       "      <th>MinBodyMass</th>\n",
       "      <th>MaxBodyMass</th>\n",
       "      <th>MinWingspan</th>\n",
       "      <th>MaxWingspan</th>\n",
       "    </tr>\n",
       "  </thead>\n",
       "  <tbody>\n",
       "    <tr>\n",
       "      <th>209</th>\n",
       "      <td>Bald eagle</td>\n",
       "      <td>Haliaeetus leucocephalus</td>\n",
       "      <td>Hawks/Eagles</td>\n",
       "      <td>Accipitriformes</td>\n",
       "      <td>Accipitridae</td>\n",
       "      <td>Haliaeetus</td>\n",
       "      <td>LC</td>\n",
       "      <td>70.0</td>\n",
       "      <td>102.0</td>\n",
       "      <td>3000.0</td>\n",
       "      <td>6300.0</td>\n",
       "      <td>1800.0</td>\n",
       "      <td>2300.0</td>\n",
       "    </tr>\n",
       "    <tr>\n",
       "      <th>247</th>\n",
       "      <td>Prairie falcon</td>\n",
       "      <td>Falco mexicanus</td>\n",
       "      <td>Falcons /Caracaras</td>\n",
       "      <td>Falconformes</td>\n",
       "      <td>Falconidae</td>\n",
       "      <td>Falco</td>\n",
       "      <td>LC</td>\n",
       "      <td>37.0</td>\n",
       "      <td>45.0</td>\n",
       "      <td>500.0</td>\n",
       "      <td>970.0</td>\n",
       "      <td>1100.0</td>\n",
       "      <td>1100.0</td>\n",
       "    </tr>\n",
       "  </tbody>\n",
       "</table>\n",
       "</div>"
      ],
      "text/plain": [
       "               Name            ScientificName            Category  \\\n",
       "209      Bald eagle  Haliaeetus leucocephalus        Hawks/Eagles   \n",
       "247  Prairie falcon           Falco mexicanus  Falcons /Caracaras   \n",
       "\n",
       "               Order        Family       Genus ConservationStatus  MinLength  \\\n",
       "209  Accipitriformes  Accipitridae  Haliaeetus                 LC       70.0   \n",
       "247     Falconformes    Falconidae       Falco                 LC       37.0   \n",
       "\n",
       "     MaxLength  MinBodyMass  MaxBodyMass  MinWingspan  MaxWingspan  \n",
       "209      102.0       3000.0       6300.0       1800.0       2300.0  \n",
       "247       45.0        500.0        970.0       1100.0       1100.0  "
      ]
     },
     "execution_count": 11,
     "metadata": {},
     "output_type": "execute_result"
    }
   ],
   "source": [
    "# check outliers\n",
    "birds[birds[\"MaxWingspan\"] > 500]"
   ]
  },
  {
   "cell_type": "code",
   "execution_count": 14,
   "id": "316b234b",
   "metadata": {},
   "outputs": [
    {
     "data": {
      "image/png": "[encoded data removed]",
      "text/plain": [
       "<Figure size 1200x600 with 1 Axes>"
      ]
     },
     "metadata": {},
     "output_type": "display_data"
    }
   ],
   "source": [
    "# Label outliers\n",
    "plt.title('Max Wingspan in Centimeters')\n",
    "plt.ylabel('Wingspan (CM)')\n",
    "plt.xlabel('Birds')\n",
    "plt.tick_params(axis='both', which='both', labelbottom=False, bottom=False)\n",
    "\n",
    "for i in range(len(birds)):\n",
    "    x = birds['Name'][i]\n",
    "    y = birds['MaxWingspan'][i]\n",
    "    plt.plot(x, y, \"o\", color=\"steelblue\")\n",
    "    if birds['MaxWingspan'][i] > 500:\n",
    "        plt.text(x, y * (1 - 0.05), birds['Name'][i], fontsize=10,)\n",
    "    \n",
    "plt.show()"
   ]
  },
  {
   "cell_type": "code",
   "execution_count": 15,
   "id": "4ed4722b",
   "metadata": {},
   "outputs": [
    {
     "data": {
      "image/png": "[encoded data removed]",
      "text/plain": [
       "<Figure size 1200x600 with 1 Axes>"
      ]
     },
     "metadata": {},
     "output_type": "display_data"
    }
   ],
   "source": [
    "# 1- Remove outliers in plot\n",
    "\n",
    "plt.title('Max Wingspan in Centimeters')\n",
    "plt.ylabel('Wingspan (CM)')\n",
    "plt.xlabel('Birds')\n",
    "plt.tick_params(axis='both',which='both',labelbottom=False,bottom=False)\n",
    "\n",
    "for i in range(len(birds)):\n",
    "    x = birds['Name'][i]\n",
    "    y = birds['MaxWingspan'][i]\n",
    "    if birds['Name'][i] not in ['Bald eagle', 'Prairie falcon']:\n",
    "        plt.plot(x, y, \"o\", color=\"steelblue\")\n",
    "plt.show()"
   ]
  },
  {
   "cell_type": "code",
   "execution_count": 16,
   "id": "3a4ed634",
   "metadata": {},
   "outputs": [],
   "source": [
    "# Amaç: Aykırı (outlier) olarak değerlendirilebilecek, 500 cm üzerindeki kanat açıklıklarını veri setinden çıkarmaktır.\n",
    "# birds[...] → Bu koşulu sağlayan satırlar DataFrame’den seçilir (filtrelenir).\n",
    "# birds = ... → Sonuç tekrar birds değişkenine atanır, yani artık sadece MaxWingspan < 500 olan kuşlar kalır.\n",
    "# 2- Remove outliers before plot\n",
    "\n",
    "birds = birds[birds[\"MaxWingspan\"] < 500]"
   ]
  },
  {
   "cell_type": "code",
   "execution_count": 17,
   "id": "d3e0cec8",
   "metadata": {},
   "outputs": [
    {
     "name": "stdout",
     "output_type": "stream",
     "text": [
      "<class 'pandas.core.frame.DataFrame'>\n",
      "Index: 441 entries, 0 to 442\n",
      "Data columns (total 13 columns):\n",
      " #   Column              Non-Null Count  Dtype  \n",
      "---  ------              --------------  -----  \n",
      " 0   Name                441 non-null    object \n",
      " 1   ScientificName      441 non-null    object \n",
      " 2   Category            441 non-null    object \n",
      " 3   Order               441 non-null    object \n",
      " 4   Family              441 non-null    object \n",
      " 5   Genus               441 non-null    object \n",
      " 6   ConservationStatus  441 non-null    object \n",
      " 7   MinLength           441 non-null    float64\n",
      " 8   MaxLength           441 non-null    float64\n",
      " 9   MinBodyMass         441 non-null    float64\n",
      " 10  MaxBodyMass         441 non-null    float64\n",
      " 11  MinWingspan         441 non-null    float64\n",
      " 12  MaxWingspan         441 non-null    float64\n",
      "dtypes: float64(6), object(7)\n",
      "memory usage: 48.2+ KB\n"
     ]
    }
   ],
   "source": [
    "birds.info()"
   ]
  },
  {
   "cell_type": "code",
   "execution_count": 18,
   "id": "6e8cea17",
   "metadata": {},
   "outputs": [
    {
     "data": {
      "image/png": "[encoded data removed]",
      "text/plain": [
       "<Figure size 1200x600 with 1 Axes>"
      ]
     },
     "metadata": {},
     "output_type": "display_data"
    }
   ],
   "source": [
    "plt.title('Max Wingspan in Centimeters')\n",
    "plt.ylabel('Wingspan (CM)')\n",
    "plt.xlabel('Birds')\n",
    "plt.tick_params(axis='both',which='both',labelbottom=False,bottom=False)\n",
    "wingspan = birds.MaxWingspan \n",
    "wingspan.plot(kind=\"bar\")\n",
    "plt.show()"
   ]
  },
  {
   "cell_type": "code",
   "execution_count": 19,
   "id": "c9728036",
   "metadata": {},
   "outputs": [
    {
     "data": {
      "text/html": [
       "<div>\n",
       "<style scoped>\n",
       "    .dataframe tbody tr th:only-of-type {\n",
       "        vertical-align: middle;\n",
       "    }\n",
       "\n",
       "    .dataframe tbody tr th {\n",
       "        vertical-align: top;\n",
       "    }\n",
       "\n",
       "    .dataframe thead th {\n",
       "        text-align: right;\n",
       "    }\n",
       "</style>\n",
       "<table border=\"1\" class=\"dataframe\">\n",
       "  <thead>\n",
       "    <tr style=\"text-align: right;\">\n",
       "      <th></th>\n",
       "      <th>Name</th>\n",
       "      <th>MaxWingspan</th>\n",
       "    </tr>\n",
       "  </thead>\n",
       "  <tbody>\n",
       "    <tr>\n",
       "      <th>8</th>\n",
       "      <td>Mute swan</td>\n",
       "      <td>240.0</td>\n",
       "    </tr>\n",
       "    <tr>\n",
       "      <th>9</th>\n",
       "      <td>Trumpeter swan</td>\n",
       "      <td>250.0</td>\n",
       "    </tr>\n",
       "    <tr>\n",
       "      <th>10</th>\n",
       "      <td>Tundra swan</td>\n",
       "      <td>211.0</td>\n",
       "    </tr>\n",
       "    <tr>\n",
       "      <th>94</th>\n",
       "      <td>Whooping crane</td>\n",
       "      <td>230.0</td>\n",
       "    </tr>\n",
       "    <tr>\n",
       "      <th>179</th>\n",
       "      <td>Magnificent frigatebird</td>\n",
       "      <td>244.0</td>\n",
       "    </tr>\n",
       "    <tr>\n",
       "      <th>182</th>\n",
       "      <td>American white pelican</td>\n",
       "      <td>300.0</td>\n",
       "    </tr>\n",
       "    <tr>\n",
       "      <th>183</th>\n",
       "      <td>Brown pelican</td>\n",
       "      <td>228.0</td>\n",
       "    </tr>\n",
       "    <tr>\n",
       "      <th>186</th>\n",
       "      <td>Great blue heron</td>\n",
       "      <td>201.0</td>\n",
       "    </tr>\n",
       "    <tr>\n",
       "      <th>204</th>\n",
       "      <td>Golden eagle</td>\n",
       "      <td>234.0</td>\n",
       "    </tr>\n",
       "  </tbody>\n",
       "</table>\n",
       "</div>"
      ],
      "text/plain": [
       "                        Name  MaxWingspan\n",
       "8                  Mute swan        240.0\n",
       "9             Trumpeter swan        250.0\n",
       "10               Tundra swan        211.0\n",
       "94            Whooping crane        230.0\n",
       "179  Magnificent frigatebird        244.0\n",
       "182   American white pelican        300.0\n",
       "183            Brown pelican        228.0\n",
       "186         Great blue heron        201.0\n",
       "204             Golden eagle        234.0"
      ]
     },
     "execution_count": 19,
     "metadata": {},
     "output_type": "execute_result"
    }
   ],
   "source": [
    "# Check other big values\n",
    "# Filtre uygulanır(200 cm den büyük olanlar), sadece name ve maxwingspan sütunu yazdırılır.\n",
    "birds[birds[\"MaxWingspan\"] > 200][[\"Name\", \"MaxWingspan\"]]"
   ]
  },
  {
   "cell_type": "code",
   "execution_count": null,
   "id": "01491bbd",
   "metadata": {},
   "outputs": [],
   "source": []
  }
 ],
 "metadata": {
  "kernelspec": {
   "display_name": "Python 3",
   "language": "python",
   "name": "python3"
  },
  "language_info": {
   "codemirror_mode": {
    "name": "ipython",
    "version": 3
   },
   "file_extension": ".py",
   "mimetype": "text/x-python",
   "name": "python",
   "nbconvert_exporter": "python",
   "pygments_lexer": "ipython3",
   "version": "3.12.4"
  }
 },
 "nbformat": 4,
 "nbformat_minor": 5
}
